{
 "cells": [
  {
   "attachments": {},
   "cell_type": "markdown",
   "metadata": {},
   "source": [
    "# Basics\n",
    "\n",
    "Integration is done via a cmake toolchain file.\n",
    "Installing is done by cloning a repository and then executing a script.\n",
    "Manifest mode lets you\n"
   ]
  },
  {
   "cell_type": "code",
   "execution_count": null,
   "metadata": {
    "vscode": {
     "languageId": "python"
    }
   },
   "outputs": [],
   "source": [
    "git clone git@github.com:microsoft/vcpkg.git\n",
    "vcpkg/bootstrap-vcpkg.sh"
   ]
  },
  {
   "cell_type": "markdown",
   "metadata": {},
   "source": [
    "# Manifest Mode\n",
    "\n",
    "Lets you specify your dependencies via a configuration file.\n",
    "\n",
    "```\n",
    "{\n",
    "    \"name\": \"terms-of-enrampagement\",\n",
    "    \"version\": \"0.0\",\n",
    "    \"dependencies\":[\n",
    "        \"benchmark\",\n",
    "        \"glfw3\",\n",
    "        \"range-v3\"\n",
    "    ]\n",
    "}\n",
    "```\n"
   ]
  },
  {
   "attachments": {},
   "cell_type": "markdown",
   "metadata": {},
   "source": [
    "# Triplets\n",
    "\n",
    "Capture of the target environment including compiler, cpu, os ... (similar to `conan profiles`). Defaults can be found in `vcpkg/triplets`."
   ]
  }
 ],
 "metadata": {
  "kernelspec": {
   "display_name": "Z shell",
   "language": "zsh",
   "name": "zsh"
  },
  "language_info": {
   "codemirror_mode": "shell",
   "file_extension": ".zsh",
   "mimetype": "text/x-zsh",
   "name": "zsh",
   "pygments_lexer": "shell",
   "version": "5.7.1"
  },
  "orig_nbformat": 4,
  "vscode": {
   "interpreter": {
    "hash": "02f96e9c6a8ec6b72fc6fc25b2ee1fa4cba9e297ee92030d40dec4a4f12703d7"
   }
  }
 },
 "nbformat": 4,
 "nbformat_minor": 2
}
